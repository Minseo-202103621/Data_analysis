{
 "cells": [
  {
   "cell_type": "code",
   "execution_count": 1,
   "id": "aa1f3d8d",
   "metadata": {},
   "outputs": [],
   "source": [
    "import pandas as pd\n"
   ]
  },
  {
   "cell_type": "markdown",
   "id": "af11b58d",
   "metadata": {},
   "source": [
    "# pandas 기초 데이터 프레임 만들기"
   ]
  },
  {
   "cell_type": "code",
   "execution_count": 2,
   "id": "2b6f2521",
   "metadata": {},
   "outputs": [],
   "source": [
    "two_dimensional = [['dong',50,60],['sieei',60,40],['dsli',56,34],['yioi',45,23]]"
   ]
  },
  {
   "cell_type": "code",
   "execution_count": 3,
   "id": "e7ec5c98",
   "metadata": {},
   "outputs": [
    {
     "data": {
      "text/html": [
       "<div>\n",
       "<style scoped>\n",
       "    .dataframe tbody tr th:only-of-type {\n",
       "        vertical-align: middle;\n",
       "    }\n",
       "\n",
       "    .dataframe tbody tr th {\n",
       "        vertical-align: top;\n",
       "    }\n",
       "\n",
       "    .dataframe thead th {\n",
       "        text-align: right;\n",
       "    }\n",
       "</style>\n",
       "<table border=\"1\" class=\"dataframe\">\n",
       "  <thead>\n",
       "    <tr style=\"text-align: right;\">\n",
       "      <th></th>\n",
       "      <th>0</th>\n",
       "      <th>1</th>\n",
       "      <th>2</th>\n",
       "    </tr>\n",
       "  </thead>\n",
       "  <tbody>\n",
       "    <tr>\n",
       "      <th>0</th>\n",
       "      <td>dong</td>\n",
       "      <td>50</td>\n",
       "      <td>60</td>\n",
       "    </tr>\n",
       "    <tr>\n",
       "      <th>1</th>\n",
       "      <td>sieei</td>\n",
       "      <td>60</td>\n",
       "      <td>40</td>\n",
       "    </tr>\n",
       "    <tr>\n",
       "      <th>2</th>\n",
       "      <td>dsli</td>\n",
       "      <td>56</td>\n",
       "      <td>34</td>\n",
       "    </tr>\n",
       "    <tr>\n",
       "      <th>3</th>\n",
       "      <td>yioi</td>\n",
       "      <td>45</td>\n",
       "      <td>23</td>\n",
       "    </tr>\n",
       "  </tbody>\n",
       "</table>\n",
       "</div>"
      ],
      "text/plain": [
       "       0   1   2\n",
       "0   dong  50  60\n",
       "1  sieei  60  40\n",
       "2   dsli  56  34\n",
       "3   yioi  45  23"
      ]
     },
     "execution_count": 3,
     "metadata": {},
     "output_type": "execute_result"
    }
   ],
   "source": [
    "my_df = pd.DataFrame(two_dimensional)\n",
    "my_df"
   ]
  },
  {
   "cell_type": "code",
   "execution_count": 4,
   "id": "5dce458a",
   "metadata": {},
   "outputs": [
    {
     "data": {
      "text/plain": [
       "pandas.core.frame.DataFrame"
      ]
     },
     "execution_count": 4,
     "metadata": {},
     "output_type": "execute_result"
    }
   ],
   "source": [
    "type(my_df)"
   ]
  },
  {
   "cell_type": "code",
   "execution_count": 7,
   "id": "3a3f4b41",
   "metadata": {},
   "outputs": [
    {
     "data": {
      "text/html": [
       "<div>\n",
       "<style scoped>\n",
       "    .dataframe tbody tr th:only-of-type {\n",
       "        vertical-align: middle;\n",
       "    }\n",
       "\n",
       "    .dataframe tbody tr th {\n",
       "        vertical-align: top;\n",
       "    }\n",
       "\n",
       "    .dataframe thead th {\n",
       "        text-align: right;\n",
       "    }\n",
       "</style>\n",
       "<table border=\"1\" class=\"dataframe\">\n",
       "  <thead>\n",
       "    <tr style=\"text-align: right;\">\n",
       "      <th></th>\n",
       "      <th>name</th>\n",
       "      <th>Korea</th>\n",
       "      <th>math</th>\n",
       "    </tr>\n",
       "  </thead>\n",
       "  <tbody>\n",
       "    <tr>\n",
       "      <th>0</th>\n",
       "      <td>dong</td>\n",
       "      <td>50</td>\n",
       "      <td>60</td>\n",
       "    </tr>\n",
       "    <tr>\n",
       "      <th>1</th>\n",
       "      <td>sieei</td>\n",
       "      <td>60</td>\n",
       "      <td>40</td>\n",
       "    </tr>\n",
       "    <tr>\n",
       "      <th>2</th>\n",
       "      <td>dsli</td>\n",
       "      <td>56</td>\n",
       "      <td>34</td>\n",
       "    </tr>\n",
       "    <tr>\n",
       "      <th>3</th>\n",
       "      <td>yioi</td>\n",
       "      <td>45</td>\n",
       "      <td>23</td>\n",
       "    </tr>\n",
       "  </tbody>\n",
       "</table>\n",
       "</div>"
      ],
      "text/plain": [
       "    name  Korea  math\n",
       "0   dong     50    60\n",
       "1  sieei     60    40\n",
       "2   dsli     56    34\n",
       "3   yioi     45    23"
      ]
     },
     "execution_count": 7,
     "metadata": {},
     "output_type": "execute_result"
    }
   ],
   "source": [
    "my_df = pd.DataFrame(two_dimensional,columns =[ 'name','Korea','math'])\n",
    "my_df"
   ]
  },
  {
   "cell_type": "code",
   "execution_count": 8,
   "id": "7cd3ab5d",
   "metadata": {},
   "outputs": [
    {
     "data": {
      "text/html": [
       "<div>\n",
       "<style scoped>\n",
       "    .dataframe tbody tr th:only-of-type {\n",
       "        vertical-align: middle;\n",
       "    }\n",
       "\n",
       "    .dataframe tbody tr th {\n",
       "        vertical-align: top;\n",
       "    }\n",
       "\n",
       "    .dataframe thead th {\n",
       "        text-align: right;\n",
       "    }\n",
       "</style>\n",
       "<table border=\"1\" class=\"dataframe\">\n",
       "  <thead>\n",
       "    <tr style=\"text-align: right;\">\n",
       "      <th></th>\n",
       "      <th>name</th>\n",
       "      <th>Korea</th>\n",
       "      <th>math</th>\n",
       "    </tr>\n",
       "  </thead>\n",
       "  <tbody>\n",
       "    <tr>\n",
       "      <th>a</th>\n",
       "      <td>dong</td>\n",
       "      <td>50</td>\n",
       "      <td>60</td>\n",
       "    </tr>\n",
       "    <tr>\n",
       "      <th>b</th>\n",
       "      <td>sieei</td>\n",
       "      <td>60</td>\n",
       "      <td>40</td>\n",
       "    </tr>\n",
       "    <tr>\n",
       "      <th>c</th>\n",
       "      <td>dsli</td>\n",
       "      <td>56</td>\n",
       "      <td>34</td>\n",
       "    </tr>\n",
       "    <tr>\n",
       "      <th>d</th>\n",
       "      <td>yioi</td>\n",
       "      <td>45</td>\n",
       "      <td>23</td>\n",
       "    </tr>\n",
       "  </tbody>\n",
       "</table>\n",
       "</div>"
      ],
      "text/plain": [
       "    name  Korea  math\n",
       "a   dong     50    60\n",
       "b  sieei     60    40\n",
       "c   dsli     56    34\n",
       "d   yioi     45    23"
      ]
     },
     "execution_count": 8,
     "metadata": {},
     "output_type": "execute_result"
    }
   ],
   "source": [
    "my_df = pd.DataFrame(two_dimensional,columns=['name','Korea','math'],index=['a','b','c','d'])\n",
    "my_df"
   ]
  },
  {
   "cell_type": "code",
   "execution_count": 9,
   "id": "bc2b57fc",
   "metadata": {},
   "outputs": [
    {
     "data": {
      "text/plain": [
       "Index(['name', 'Korea', 'math'], dtype='object')"
      ]
     },
     "execution_count": 9,
     "metadata": {},
     "output_type": "execute_result"
    }
   ],
   "source": [
    "my_df.columns"
   ]
  },
  {
   "cell_type": "code",
   "execution_count": 10,
   "id": "99addae3",
   "metadata": {},
   "outputs": [
    {
     "data": {
      "text/plain": [
       "Index(['a', 'b', 'c', 'd'], dtype='object')"
      ]
     },
     "execution_count": 10,
     "metadata": {},
     "output_type": "execute_result"
    }
   ],
   "source": [
    "my_df.index"
   ]
  },
  {
   "cell_type": "code",
   "execution_count": 11,
   "id": "437a7c65",
   "metadata": {},
   "outputs": [
    {
     "data": {
      "text/plain": [
       "name     object\n",
       "Korea     int64\n",
       "math      int64\n",
       "dtype: object"
      ]
     },
     "execution_count": 11,
     "metadata": {},
     "output_type": "execute_result"
    }
   ],
   "source": [
    "my_df.dtypes"
   ]
  },
  {
   "cell_type": "markdown",
   "id": "f443b945",
   "metadata": {},
   "source": [
    "# From list of lists, array of arrays, list of series"
   ]
  },
  {
   "cell_type": "code",
   "execution_count": 12,
   "id": "1340d2b7",
   "metadata": {},
   "outputs": [
    {
     "name": "stdout",
     "output_type": "stream",
     "text": [
      "      0   1   2\n",
      "0  dong  50  89\n",
      "1   han  56  23\n",
      "2   jii  45  29\n",
      "3  hihi  89  90\n",
      "      0   1   2\n",
      "0  dong  50  89\n",
      "1   han  56  23\n",
      "2   jii  45  29\n",
      "3  hihi  89  90\n",
      "      0   1   2\n",
      "0  dong  50  89\n",
      "1   han  56  23\n",
      "2   jii  45  29\n",
      "3  hihi  89  90\n"
     ]
    }
   ],
   "source": [
    "import numpy as np\n",
    "import pandas as pd\n",
    "two_list = [['dong',50,89],['han',56,23],['jii',45,29],['hihi',89,90]]\n",
    "two_array = np.array(two_list)\n",
    "list_of_series = [\n",
    "    pd.Series(['dong',50,89]),\n",
    "    pd.Series(['han',56,23]),\n",
    "    pd.Series(['jii',45,29]),\n",
    "    pd.Series(['hihi',89,90])\n",
    "]\n",
    "# 아래 셋은 모두 동일하다\n",
    "df1 = pd.DataFrame(two_list)\n",
    "df2 = pd.DataFrame(two_array)\n",
    "df3 = pd.DataFrame(list_of_series)\n",
    "print(df1)\n",
    "print(df2)\n",
    "print(df3)"
   ]
  },
  {
   "cell_type": "markdown",
   "id": "6601622e",
   "metadata": {},
   "source": [
    "# From dict of lists, dict of arrays, dict of series\n",
    "## 파이썬 사전으로도 DataFrame을 만들 수 있다.\n",
    "## 사전의 key로는 column이름을 쓰고 그 column에 해당하는 리스트,numpy array,혹은 pandas Series를 사전의 value로 넣어주면 됩니다."
   ]
  },
  {
   "cell_type": "code",
   "execution_count": 14,
   "id": "6acb0541",
   "metadata": {},
   "outputs": [
    {
     "name": "stdout",
     "output_type": "stream",
     "text": [
      "  name  eng  math\n",
      "0  gan   40    90\n",
      "1  han   20    20\n",
      "2  hou   70    40\n",
      "3  ker   40    50\n",
      "  name  eng  math\n",
      "0  gan   40    90\n",
      "1  han   20    20\n",
      "2  hou   70    40\n",
      "3  ker   40    50\n",
      "  name  eng  math\n",
      "0  gan   40    90\n",
      "1  han   20    20\n",
      "2  hou   70    40\n",
      "3  ker   40    50\n"
     ]
    }
   ],
   "source": [
    "names = [\"gan\",'han','hou','ker']\n",
    "eng_s = [40,20,70,40]\n",
    "math_s = [90,20,40,50]\n",
    "dict1 = {\n",
    "    'name': names,\n",
    "    'eng': eng_s,\n",
    "    'math' : math_s\n",
    "}\n",
    "dict2 = {\n",
    "    'name': np.array(names),\n",
    "    'eng': np.array(eng_s),\n",
    "    'math' : np.array(math_s)\n",
    "}\n",
    "dict3 = {\n",
    "    'name': pd.Series(names),\n",
    "    'eng': pd.Series(eng_s),\n",
    "    'math' : pd.Series(math_s)\n",
    "}\n",
    "\n",
    "df1 = pd.DataFrame(dict1)\n",
    "df2 = pd.DataFrame(dict2)\n",
    "df3 = pd.DataFrame(dict3)\n",
    "print(df1)\n",
    "print(df2)\n",
    "print(df3)"
   ]
  },
  {
   "cell_type": "code",
   "execution_count": 16,
   "id": "5468d95f",
   "metadata": {},
   "outputs": [
    {
     "data": {
      "text/html": [
       "<div>\n",
       "<style scoped>\n",
       "    .dataframe tbody tr th:only-of-type {\n",
       "        vertical-align: middle;\n",
       "    }\n",
       "\n",
       "    .dataframe tbody tr th {\n",
       "        vertical-align: top;\n",
       "    }\n",
       "\n",
       "    .dataframe thead th {\n",
       "        text-align: right;\n",
       "    }\n",
       "</style>\n",
       "<table border=\"1\" class=\"dataframe\">\n",
       "  <thead>\n",
       "    <tr style=\"text-align: right;\">\n",
       "      <th></th>\n",
       "      <th>name</th>\n",
       "      <th>birthday</th>\n",
       "      <th>occupation</th>\n",
       "    </tr>\n",
       "  </thead>\n",
       "  <tbody>\n",
       "    <tr>\n",
       "      <th>0</th>\n",
       "      <td>TS</td>\n",
       "      <td>D13</td>\n",
       "      <td>a</td>\n",
       "    </tr>\n",
       "    <tr>\n",
       "      <th>1</th>\n",
       "      <td>AS</td>\n",
       "      <td>J9</td>\n",
       "      <td>b</td>\n",
       "    </tr>\n",
       "    <tr>\n",
       "      <th>2</th>\n",
       "      <td>HP</td>\n",
       "      <td>J31</td>\n",
       "      <td>c</td>\n",
       "    </tr>\n",
       "    <tr>\n",
       "      <th>3</th>\n",
       "      <td>JSP</td>\n",
       "      <td>F25</td>\n",
       "      <td>d</td>\n",
       "    </tr>\n",
       "  </tbody>\n",
       "</table>\n",
       "</div>"
      ],
      "text/plain": [
       "  name birthday occupation\n",
       "0   TS      D13          a\n",
       "1   AS       J9          b\n",
       "2   HP      J31          c\n",
       "3  JSP      F25          d"
      ]
     },
     "execution_count": 16,
     "metadata": {},
     "output_type": "execute_result"
    }
   ],
   "source": [
    "names = ['TS','AS','HP','JSP']\n",
    "birthdays = ['D13','J9','J31','F25']\n",
    "occupations = ['a','b','c','d']\n",
    "dict = {\n",
    "    \"name\" : names,\n",
    "    \"birthday\" : birthdays,\n",
    "    \"occupation\" : occupations \n",
    "}\n",
    "df = pd.DataFrame(dict)\n",
    "df"
   ]
  },
  {
   "cell_type": "code",
   "execution_count": 20,
   "id": "4dc53657",
   "metadata": {},
   "outputs": [
    {
     "data": {
      "text/html": [
       "<div>\n",
       "<style scoped>\n",
       "    .dataframe tbody tr th:only-of-type {\n",
       "        vertical-align: middle;\n",
       "    }\n",
       "\n",
       "    .dataframe tbody tr th {\n",
       "        vertical-align: top;\n",
       "    }\n",
       "\n",
       "    .dataframe thead th {\n",
       "        text-align: right;\n",
       "    }\n",
       "</style>\n",
       "<table border=\"1\" class=\"dataframe\">\n",
       "  <thead>\n",
       "    <tr style=\"text-align: right;\">\n",
       "      <th></th>\n",
       "      <th>name</th>\n",
       "      <th>birthday</th>\n",
       "      <th>occupation</th>\n",
       "    </tr>\n",
       "  </thead>\n",
       "  <tbody>\n",
       "    <tr>\n",
       "      <th>0</th>\n",
       "      <td>TS</td>\n",
       "      <td>D13</td>\n",
       "      <td>a</td>\n",
       "    </tr>\n",
       "    <tr>\n",
       "      <th>1</th>\n",
       "      <td>AS</td>\n",
       "      <td>J9</td>\n",
       "      <td>b</td>\n",
       "    </tr>\n",
       "    <tr>\n",
       "      <th>2</th>\n",
       "      <td>HP</td>\n",
       "      <td>J31</td>\n",
       "      <td>c</td>\n",
       "    </tr>\n",
       "    <tr>\n",
       "      <th>3</th>\n",
       "      <td>JSP</td>\n",
       "      <td>F25</td>\n",
       "      <td>d</td>\n",
       "    </tr>\n",
       "  </tbody>\n",
       "</table>\n",
       "</div>"
      ],
      "text/plain": [
       "  name birthday occupation\n",
       "0   TS      D13          a\n",
       "1   AS       J9          b\n",
       "2   HP      J31          c\n",
       "3  JSP      F25          d"
      ]
     },
     "execution_count": 20,
     "metadata": {},
     "output_type": "execute_result"
    }
   ],
   "source": [
    "arrays = [['TS','D13','a'],['AS','J9','b'],['HP','J31','c'],['JSP','F25','d']]\n",
    "df = pd.DataFrame(arrays,columns = ['name','birthday','occupation'],index=[0,1,2,3])\n",
    "df"
   ]
  },
  {
   "cell_type": "markdown",
   "id": "8de0d821",
   "metadata": {},
   "source": [
    "# pandas로 데이터 읽어오기"
   ]
  },
  {
   "cell_type": "code",
   "execution_count": 1,
   "id": "2b68961b",
   "metadata": {},
   "outputs": [],
   "source": [
    "import pandas as pd"
   ]
  },
  {
   "cell_type": "code",
   "execution_count": null,
   "id": "072b6b1d",
   "metadata": {},
   "outputs": [],
   "source": []
  },
  {
   "cell_type": "code",
   "execution_count": 10,
   "id": "d3a149d3",
   "metadata": {},
   "outputs": [
    {
     "data": {
      "text/html": [
       "<div>\n",
       "<style scoped>\n",
       "    .dataframe tbody tr th:only-of-type {\n",
       "        vertical-align: middle;\n",
       "    }\n",
       "\n",
       "    .dataframe tbody tr th {\n",
       "        vertical-align: top;\n",
       "    }\n",
       "\n",
       "    .dataframe thead th {\n",
       "        text-align: right;\n",
       "    }\n",
       "</style>\n",
       "<table border=\"1\" class=\"dataframe\">\n",
       "  <thead>\n",
       "    <tr style=\"text-align: right;\">\n",
       "      <th></th>\n",
       "      <th>Unnamed: 0</th>\n",
       "      <th>Unnamed: 0.1</th>\n",
       "      <th>price</th>\n",
       "      <th>built_yr</th>\n",
       "      <th>dong_name</th>\n",
       "      <th>apt_name</th>\n",
       "      <th>size</th>\n",
       "      <th>gu_code</th>\n",
       "      <th>size_pyung</th>\n",
       "      <th>prince_pyung</th>\n",
       "      <th>price_pyung</th>\n",
       "    </tr>\n",
       "    <tr>\n",
       "      <th>month</th>\n",
       "      <th></th>\n",
       "      <th></th>\n",
       "      <th></th>\n",
       "      <th></th>\n",
       "      <th></th>\n",
       "      <th></th>\n",
       "      <th></th>\n",
       "      <th></th>\n",
       "      <th></th>\n",
       "      <th></th>\n",
       "      <th></th>\n",
       "    </tr>\n",
       "  </thead>\n",
       "  <tbody>\n",
       "    <tr>\n",
       "      <th>202106</th>\n",
       "      <td>0</td>\n",
       "      <td>0</td>\n",
       "      <td>150000</td>\n",
       "      <td>1988</td>\n",
       "      <td>방배동</td>\n",
       "      <td>방배임광</td>\n",
       "      <td>82.34</td>\n",
       "      <td>11650</td>\n",
       "      <td>24.726727</td>\n",
       "      <td>6066.310420</td>\n",
       "      <td>6066.310420</td>\n",
       "    </tr>\n",
       "    <tr>\n",
       "      <th>202106</th>\n",
       "      <td>1</td>\n",
       "      <td>1</td>\n",
       "      <td>155000</td>\n",
       "      <td>2003</td>\n",
       "      <td>방배동</td>\n",
       "      <td>삼환나띠르빌(1002-9)</td>\n",
       "      <td>148.99</td>\n",
       "      <td>11650</td>\n",
       "      <td>44.741742</td>\n",
       "      <td>3464.326465</td>\n",
       "      <td>3464.326465</td>\n",
       "    </tr>\n",
       "    <tr>\n",
       "      <th>202106</th>\n",
       "      <td>2</td>\n",
       "      <td>2</td>\n",
       "      <td>290000</td>\n",
       "      <td>1983</td>\n",
       "      <td>방배동</td>\n",
       "      <td>방배신삼호</td>\n",
       "      <td>185.46</td>\n",
       "      <td>11650</td>\n",
       "      <td>55.693694</td>\n",
       "      <td>5207.052734</td>\n",
       "      <td>5207.052734</td>\n",
       "    </tr>\n",
       "    <tr>\n",
       "      <th>202106</th>\n",
       "      <td>3</td>\n",
       "      <td>3</td>\n",
       "      <td>210000</td>\n",
       "      <td>2006</td>\n",
       "      <td>방배동</td>\n",
       "      <td>롯데캐슬헤론</td>\n",
       "      <td>169.08</td>\n",
       "      <td>11650</td>\n",
       "      <td>50.774775</td>\n",
       "      <td>4135.911994</td>\n",
       "      <td>4135.911994</td>\n",
       "    </tr>\n",
       "    <tr>\n",
       "      <th>202106</th>\n",
       "      <td>4</td>\n",
       "      <td>4</td>\n",
       "      <td>175000</td>\n",
       "      <td>1992</td>\n",
       "      <td>방배동</td>\n",
       "      <td>대우(효령)</td>\n",
       "      <td>84.91</td>\n",
       "      <td>11650</td>\n",
       "      <td>25.498498</td>\n",
       "      <td>6863.149217</td>\n",
       "      <td>6863.149217</td>\n",
       "    </tr>\n",
       "    <tr>\n",
       "      <th>...</th>\n",
       "      <td>...</td>\n",
       "      <td>...</td>\n",
       "      <td>...</td>\n",
       "      <td>...</td>\n",
       "      <td>...</td>\n",
       "      <td>...</td>\n",
       "      <td>...</td>\n",
       "      <td>...</td>\n",
       "      <td>...</td>\n",
       "      <td>...</td>\n",
       "      <td>...</td>\n",
       "    </tr>\n",
       "    <tr>\n",
       "      <th>202106</th>\n",
       "      <td>191</td>\n",
       "      <td>191</td>\n",
       "      <td>147000</td>\n",
       "      <td>2014</td>\n",
       "      <td>내곡동</td>\n",
       "      <td>서초더샵포레</td>\n",
       "      <td>59.69</td>\n",
       "      <td>11650</td>\n",
       "      <td>17.924925</td>\n",
       "      <td>8200.871168</td>\n",
       "      <td>8200.871168</td>\n",
       "    </tr>\n",
       "    <tr>\n",
       "      <th>202106</th>\n",
       "      <td>192</td>\n",
       "      <td>192</td>\n",
       "      <td>160000</td>\n",
       "      <td>2014</td>\n",
       "      <td>내곡동</td>\n",
       "      <td>서초더샵포레</td>\n",
       "      <td>84.81</td>\n",
       "      <td>11650</td>\n",
       "      <td>25.468468</td>\n",
       "      <td>6282.278033</td>\n",
       "      <td>6282.278033</td>\n",
       "    </tr>\n",
       "    <tr>\n",
       "      <th>202106</th>\n",
       "      <td>193</td>\n",
       "      <td>193</td>\n",
       "      <td>192500</td>\n",
       "      <td>2014</td>\n",
       "      <td>신원동</td>\n",
       "      <td>서초포레스타5단지</td>\n",
       "      <td>101.35</td>\n",
       "      <td>11650</td>\n",
       "      <td>30.435435</td>\n",
       "      <td>6324.864332</td>\n",
       "      <td>6324.864332</td>\n",
       "    </tr>\n",
       "    <tr>\n",
       "      <th>202106</th>\n",
       "      <td>194</td>\n",
       "      <td>194</td>\n",
       "      <td>192500</td>\n",
       "      <td>2014</td>\n",
       "      <td>신원동</td>\n",
       "      <td>서초포레스타5단지</td>\n",
       "      <td>101.35</td>\n",
       "      <td>11650</td>\n",
       "      <td>30.435435</td>\n",
       "      <td>6324.864332</td>\n",
       "      <td>6324.864332</td>\n",
       "    </tr>\n",
       "    <tr>\n",
       "      <th>202106</th>\n",
       "      <td>195</td>\n",
       "      <td>195</td>\n",
       "      <td>185000</td>\n",
       "      <td>2014</td>\n",
       "      <td>신원동</td>\n",
       "      <td>서초포레스타5단지</td>\n",
       "      <td>84.41</td>\n",
       "      <td>11650</td>\n",
       "      <td>25.348348</td>\n",
       "      <td>7298.305888</td>\n",
       "      <td>7298.305888</td>\n",
       "    </tr>\n",
       "  </tbody>\n",
       "</table>\n",
       "<p>196 rows × 11 columns</p>\n",
       "</div>"
      ],
      "text/plain": [
       "        Unnamed: 0  Unnamed: 0.1   price  built_yr dong_name        apt_name  \\\n",
       "month                                                                          \n",
       "202106           0             0  150000      1988       방배동            방배임광   \n",
       "202106           1             1  155000      2003       방배동  삼환나띠르빌(1002-9)   \n",
       "202106           2             2  290000      1983       방배동           방배신삼호   \n",
       "202106           3             3  210000      2006       방배동          롯데캐슬헤론   \n",
       "202106           4             4  175000      1992       방배동          대우(효령)   \n",
       "...            ...           ...     ...       ...       ...             ...   \n",
       "202106         191           191  147000      2014       내곡동          서초더샵포레   \n",
       "202106         192           192  160000      2014       내곡동          서초더샵포레   \n",
       "202106         193           193  192500      2014       신원동       서초포레스타5단지   \n",
       "202106         194           194  192500      2014       신원동       서초포레스타5단지   \n",
       "202106         195           195  185000      2014       신원동       서초포레스타5단지   \n",
       "\n",
       "          size  gu_code  size_pyung  prince_pyung  price_pyung  \n",
       "month                                                           \n",
       "202106   82.34    11650   24.726727   6066.310420  6066.310420  \n",
       "202106  148.99    11650   44.741742   3464.326465  3464.326465  \n",
       "202106  185.46    11650   55.693694   5207.052734  5207.052734  \n",
       "202106  169.08    11650   50.774775   4135.911994  4135.911994  \n",
       "202106   84.91    11650   25.498498   6863.149217  6863.149217  \n",
       "...        ...      ...         ...           ...          ...  \n",
       "202106   59.69    11650   17.924925   8200.871168  8200.871168  \n",
       "202106   84.81    11650   25.468468   6282.278033  6282.278033  \n",
       "202106  101.35    11650   30.435435   6324.864332  6324.864332  \n",
       "202106  101.35    11650   30.435435   6324.864332  6324.864332  \n",
       "202106   84.41    11650   25.348348   7298.305888  7298.305888  \n",
       "\n",
       "[196 rows x 11 columns]"
      ]
     },
     "execution_count": 10,
     "metadata": {},
     "output_type": "execute_result"
    }
   ],
   "source": [
    "pd.read_csv('house_price.csv',index_col=2) # 컬 2번을 인덱스로"
   ]
  },
  {
   "cell_type": "code",
   "execution_count": null,
   "id": "4e3bed5f",
   "metadata": {},
   "outputs": [],
   "source": []
  }
 ],
 "metadata": {
  "kernelspec": {
   "display_name": "Python 3 (ipykernel)",
   "language": "python",
   "name": "python3"
  },
  "language_info": {
   "codemirror_mode": {
    "name": "ipython",
    "version": 3
   },
   "file_extension": ".py",
   "mimetype": "text/x-python",
   "name": "python",
   "nbconvert_exporter": "python",
   "pygments_lexer": "ipython3",
   "version": "3.9.7"
  }
 },
 "nbformat": 4,
 "nbformat_minor": 5
}
